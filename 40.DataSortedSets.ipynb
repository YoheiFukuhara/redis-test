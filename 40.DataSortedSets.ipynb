{
 "cells": [
  {
   "cell_type": "code",
   "execution_count": 1,
   "metadata": {},
   "outputs": [],
   "source": [
    "from redis import Redis\n",
    "r = Redis( )"
   ]
  },
  {
   "cell_type": "code",
   "execution_count": 2,
   "metadata": {},
   "outputs": [],
   "source": [
    "# 辞書型の作成\n",
    "dict = {}\n",
    "dict[\"Alan Kay\"]         = 1940\n",
    "dict[\"Sophie Wilson\"]    = 1957\n",
    "dict[\"Richard Stallman\"] = 1953"
   ]
  },
  {
   "cell_type": "code",
   "execution_count": 3,
   "metadata": {},
   "outputs": [
    {
     "data": {
      "text/plain": [
       "3"
      ]
     },
     "execution_count": 3,
     "metadata": {},
     "output_type": "execute_result"
    }
   ],
   "source": [
    "# 追加\n",
    "r.zadd(\"hackers\", dict)"
   ]
  },
  {
   "cell_type": "code",
   "execution_count": 4,
   "metadata": {},
   "outputs": [
    {
     "data": {
      "text/plain": [
       "[b'Alan Kay', b'Richard Stallman', b'Sophie Wilson']"
      ]
     },
     "execution_count": 4,
     "metadata": {},
     "output_type": "execute_result"
    }
   ],
   "source": [
    "# 参照(Scoreなし)\n",
    "r.zrange(\"hackers\",0,-1)\n",
    "#=> [b'Alan Kay', b'Richard Stallman', b'Sophie Wilson']"
   ]
  },
  {
   "cell_type": "code",
   "execution_count": 5,
   "metadata": {},
   "outputs": [
    {
     "data": {
      "text/plain": [
       "[(b'Alan Kay', 1940.0),\n",
       " (b'Richard Stallman', 1953.0),\n",
       " (b'Sophie Wilson', 1957.0)]"
      ]
     },
     "execution_count": 5,
     "metadata": {},
     "output_type": "execute_result"
    }
   ],
   "source": [
    "# 参照(Scoreあり)\n",
    "r.zrange(\"hackers\",0,-1, withscores=True)\n",
    "#=> [(b'Alan Kay', 1940.0),\n",
    "#=>  (b'Richard Stallman', 1953.0),\n",
    "#=>  (b'Sophie Wilson', 1957.0)]"
   ]
  },
  {
   "cell_type": "code",
   "execution_count": 6,
   "metadata": {},
   "outputs": [
    {
     "data": {
      "text/plain": [
       "0"
      ]
     },
     "execution_count": 6,
     "metadata": {},
     "output_type": "execute_result"
    }
   ],
   "source": [
    "# ちなみに、同じKeyで別値をzaddすると値上書き\n",
    "dict2 = {}\n",
    "dict2[\"Alan Kay\"]         = 19401\n",
    "r.zadd(\"hackers\", dict2)"
   ]
  },
  {
   "cell_type": "code",
   "execution_count": 7,
   "metadata": {},
   "outputs": [
    {
     "data": {
      "text/plain": [
       "True"
      ]
     },
     "execution_count": 7,
     "metadata": {},
     "output_type": "execute_result"
    }
   ],
   "source": [
    "# 削除\n",
    "r.flushall()"
   ]
  },
  {
   "cell_type": "code",
   "execution_count": null,
   "metadata": {},
   "outputs": [],
   "source": []
  }
 ],
 "metadata": {
  "kernelspec": {
   "display_name": "Python 3",
   "language": "python",
   "name": "python3"
  },
  "language_info": {
   "codemirror_mode": {
    "name": "ipython",
    "version": 3
   },
   "file_extension": ".py",
   "mimetype": "text/x-python",
   "name": "python",
   "nbconvert_exporter": "python",
   "pygments_lexer": "ipython3",
   "version": "3.7.2"
  }
 },
 "nbformat": 4,
 "nbformat_minor": 2
}
